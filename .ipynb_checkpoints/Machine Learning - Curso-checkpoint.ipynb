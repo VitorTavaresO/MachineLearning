{
 "cells": [
  {
   "cell_type": "code",
   "execution_count": 44,
   "id": "182e7a72",
   "metadata": {},
   "outputs": [],
   "source": [
    "import pandas as pd\n",
    "import numpy as np\n",
    "\n",
    "from sklearn.neighbors import KNeighborsClassifier\n",
    "from sklearn.tree import DecisionTreeClassifier\n",
    "from sklearn.naive_bayes import GaussianNB\n",
    "from sklearn.linear_model import LogisticRegression\n",
    "from sklearn.svm import SVC\n",
    "\n",
    "from sklearn.model_selection import train_test_split\n",
    "from sklearn.preprocessing import OrdinalEncoder\n",
    "\n",
    "from sklearn.metrics import accuracy_score, confusion_matrix, classification_report"
   ]
  },
  {
   "cell_type": "code",
   "execution_count": 45,
   "id": "6480c1ea",
   "metadata": {},
   "outputs": [],
   "source": [
    "#Ler scrap, dropar tabelas que não vão ser usadas.\n",
    "# Definir target e tamanho do teste\n",
    "\n",
    "df_original = pd.read_csv(\"vendas.csv\")\n",
    "df = df_original.drop( [\"Cabecalho\", \"Cidade\", \"Pais\", \"Horario Clique\"], axis=1 )\n",
    "\n",
    "\n",
    "dados = df.drop( \"Comprou\", axis=1 )\n",
    "target = df[\"Comprou\"]\n",
    "\n",
    "d_treino, d_teste, t_treino, t_teste = train_test_split(dados, target, test_size=0.3, random_state=3)"
   ]
  },
  {
   "cell_type": "code",
   "execution_count": 46,
   "id": "d653605b",
   "metadata": {},
   "outputs": [
    {
     "name": "stderr",
     "output_type": "stream",
     "text": [
      "C:\\Users\\vitor\\AppData\\Local\\Programs\\Python\\Python310\\lib\\site-packages\\sklearn\\linear_model\\_logistic.py:814: ConvergenceWarning: lbfgs failed to converge (status=1):\n",
      "STOP: TOTAL NO. of ITERATIONS REACHED LIMIT.\n",
      "\n",
      "Increase the number of iterations (max_iter) or scale the data as shown in:\n",
      "    https://scikit-learn.org/stable/modules/preprocessing.html\n",
      "Please also refer to the documentation for alternative solver options:\n",
      "    https://scikit-learn.org/stable/modules/linear_model.html#logistic-regression\n",
      "  n_iter_i = _check_optimize_result(\n"
     ]
    },
    {
     "data": {
      "text/plain": [
       "SVC(kernel='linear', random_state=3)"
      ]
     },
     "execution_count": 46,
     "metadata": {},
     "output_type": "execute_result"
    }
   ],
   "source": [
    "#Aplicação dos scripts\n",
    "\n",
    "knn = KNeighborsClassifier(n_neighbors=5)\n",
    "knn.fit(d_treino, t_treino)\n",
    "\n",
    "arvore = DecisionTreeClassifier(criterion=\"entropy\")\n",
    "arvore.fit(d_treino, t_treino)\n",
    "\n",
    "nb = GaussianNB()\n",
    "nb.fit(d_treino, t_treino)\n",
    "\n",
    "lr = LogisticRegression()\n",
    "lr.fit(d_treino, t_treino)\n",
    "\n",
    "svc = SVC(kernel=\"linear\", C=1.0, random_state=3)\n",
    "svc.fit(d_treino, t_treino)\n"
   ]
  },
  {
   "cell_type": "code",
   "execution_count": 42,
   "id": "5929fb05",
   "metadata": {},
   "outputs": [
    {
     "name": "stdout",
     "output_type": "stream",
     "text": [
      "KNN: 0.6766666666666666\n",
      "Árvore: 0.94\n",
      "NB: 0.9566666666666667\n",
      "LogisticR: 0.9466666666666667\n",
      "SVC: 0.9566666666666667\n"
     ]
    }
   ],
   "source": [
    "#Definir acuracia de script, definindo a precisão.\n",
    "acuracia_knn = knn.score(d_teste, t_teste)\n",
    "acuracia_arvore = arvore.score(d_teste, t_teste)\n",
    "acuracia_nb = nb.score(d_teste, t_teste)\n",
    "acuracia_lr = lr.score(d_teste, t_teste)\n",
    "acuracia_svc = svc.score(d_teste, t_teste)\n",
    "\n",
    "print(\"KNN:\", acuracia_knn)\n",
    "print(\"Árvore:\", acuracia_arvore)\n",
    "print(\"NB:\", acuracia_nb)\n",
    "print(\"LogisticR:\", acuracia_lr)\n",
    "print(\"SVC:\", acuracia_svc)"
   ]
  },
  {
   "cell_type": "code",
   "execution_count": 43,
   "id": "4a577d39",
   "metadata": {},
   "outputs": [
    {
     "data": {
      "text/plain": [
       "array([[142,   6],\n",
       "       [  7, 145]], dtype=int64)"
      ]
     },
     "execution_count": 43,
     "metadata": {},
     "output_type": "execute_result"
    }
   ],
   "source": [
    "# Aplicando predict para identificar separadamente seus erros e acertos.\n",
    "\n",
    "#predict_knn = knn.predict(d_teste)\n",
    "#confusion_matrix(t_teste, predict_knn)\n",
    "\n",
    "#predict_arvore = arvore.predict(d_teste)\n",
    "#confusion_matrix(t_teste, predict_arvore)\n",
    "\n",
    "#predict_nb = nb.predict(d_teste)\n",
    "#confusion_matrix(t_teste, predict_nb)\n",
    "\n",
    "#predict_lr = lr.predict(d_teste)\n",
    "#confusion_matrix(t_teste, predict_lr)\n",
    "\n",
    "predict_svc = svc.predict(d_teste)\n",
    "confusion_matrix(t_teste, predict_svc)"
   ]
  },
  {
   "cell_type": "code",
   "execution_count": null,
   "id": "1a31e5b3",
   "metadata": {},
   "outputs": [],
   "source": []
  }
 ],
 "metadata": {
  "kernelspec": {
   "display_name": "Python 3 (ipykernel)",
   "language": "python",
   "name": "python3"
  },
  "language_info": {
   "codemirror_mode": {
    "name": "ipython",
    "version": 3
   },
   "file_extension": ".py",
   "mimetype": "text/x-python",
   "name": "python",
   "nbconvert_exporter": "python",
   "pygments_lexer": "ipython3",
   "version": "3.10.2"
  }
 },
 "nbformat": 4,
 "nbformat_minor": 5
}
